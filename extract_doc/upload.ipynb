{
 "cells": [
  {
   "cell_type": "code",
   "execution_count": 1,
   "metadata": {},
   "outputs": [],
   "source": [
    "from langchain_ollama import OllamaEmbeddings\n",
    "\n",
    "embeddings = OllamaEmbeddings(\n",
    "    model=\"llama3.2\",\n",
    ")"
   ]
  },
  {
   "cell_type": "code",
   "execution_count": 2,
   "metadata": {},
   "outputs": [],
   "source": [
    "import os\n",
    "import uuid\n",
    "from langchain_ollama import OllamaEmbeddings\n",
    "from langchain.text_splitter import RecursiveCharacterTextSplitter\n",
    "from pinecone import Pinecone, ServerlessSpec\n",
    "from langchain.vectorstores import Pinecone as PineconeStore\n",
    "from tqdm import tqdm\n"
   ]
  },
  {
   "cell_type": "code",
   "execution_count": 3,
   "metadata": {},
   "outputs": [],
   "source": [
    "PINECONE_API_KEY = os.environ[\"PINECONE_KEY\"]\n",
    "PINECONE_INDEX_NAME = \"documentations\""
   ]
  },
  {
   "cell_type": "code",
   "execution_count": 4,
   "metadata": {},
   "outputs": [],
   "source": [
    "splitter = RecursiveCharacterTextSplitter(\n",
    "    chunk_size=500,\n",
    "    chunk_overlap=50\n",
    ")"
   ]
  },
  {
   "cell_type": "code",
   "execution_count": 5,
   "metadata": {},
   "outputs": [],
   "source": [
    "DOCS_DIR = \"../docs\""
   ]
  },
  {
   "cell_type": "code",
   "execution_count": 6,
   "metadata": {},
   "outputs": [],
   "source": [
    "from langchain_pinecone import PineconeVectorStore\n",
    "pc = Pinecone(api_key=PINECONE_API_KEY)\n",
    "index = pc.Index(PINECONE_INDEX_NAME)\n"
   ]
  },
  {
   "cell_type": "code",
   "execution_count": 7,
   "metadata": {},
   "outputs": [
    {
     "name": "stdout",
     "output_type": "stream",
     "text": [
      "📦 Scanning files...\n",
      "🔍 Found 148 text files to process\n",
      "\n"
     ]
    }
   ],
   "source": [
    "# === SCAN AND PROCESS DOCS ===\n",
    "print(\"📦 Scanning files...\")\n",
    "\n",
    "all_txt_files = []\n",
    "for root, _, files in os.walk(DOCS_DIR):\n",
    "    for file in files:\n",
    "        if file.endswith(\".txt\"):\n",
    "            all_txt_files.append(os.path.join(root, file))\n",
    "\n",
    "print(f\"🔍 Found {len(all_txt_files)} text files to process\\n\")"
   ]
  },
  {
   "cell_type": "code",
   "execution_count": 9,
   "metadata": {},
   "outputs": [],
   "source": [
    "# === INITIALIZE VECTOR STORE ===\n",
    "vectorstore = PineconeVectorStore(\n",
    "    index=index,\n",
    "    embedding=embeddings,\n",
    "    text_key=\"text\"\n",
    ")"
   ]
  },
  {
   "cell_type": "code",
   "execution_count": 14,
   "metadata": {},
   "outputs": [
    {
     "name": "stderr",
     "output_type": "stream",
     "text": [
      "📤 Uploading files: 100%|██████████| 148/148 [27:23<00:00, 11.10s/file] "
     ]
    },
    {
     "name": "stdout",
     "output_type": "stream",
     "text": [
      "✅ All files uploaded to Pinecone without exceeding size limit.\n"
     ]
    },
    {
     "name": "stderr",
     "output_type": "stream",
     "text": [
      "\n"
     ]
    }
   ],
   "source": [
    "# === LOOP AND UPSERT IN BATCHES ===\n",
    "BATCH_SIZE = 200\n",
    "MAX_PAYLOAD_SIZE = 2 * 1024 * 1024  # 2MB\n",
    "import json\n",
    "import sys \n",
    "for file_path in tqdm(all_txt_files, desc=\"📤 Uploading files\", unit=\"file\"):\n",
    "    file_name = os.path.basename(file_path)\n",
    "    with open(file_path, \"r\", encoding=\"utf-8\") as f:\n",
    "        text = f.read()\n",
    "\n",
    "    chunks = splitter.split_text(text)\n",
    "    if not chunks:\n",
    "        continue\n",
    "\n",
    "    ids = [str(uuid.uuid4()) for _ in chunks]\n",
    "    metadatas = [{\"source\": file_name}] * len(chunks)\n",
    "\n",
    "    # === Batch Dynamically Based on Payload Size ===\n",
    "    batch_texts, batch_ids, batch_metas, size_acc = [], [], [], 0\n",
    "    for chunk, _id, meta in zip(chunks, ids, metadatas):\n",
    "        # Estimate size of this item\n",
    "        embedding = embeddings.embed_query(chunk)\n",
    "        payload = json.dumps({\"id\": _id, \"values\": embedding, \"metadata\": meta})\n",
    "        payload_size = sys.getsizeof(payload)\n",
    "\n",
    "        if size_acc + payload_size >= MAX_PAYLOAD_SIZE and batch_texts:\n",
    "            # Flush batch\n",
    "            vectorstore.add_texts(texts=batch_texts, ids=batch_ids, metadatas=batch_metas)\n",
    "            batch_texts, batch_ids, batch_metas, size_acc = [], [], [], 0\n",
    "\n",
    "        # Add to current batch\n",
    "        batch_texts.append(chunk)\n",
    "        batch_ids.append(_id)\n",
    "        batch_metas.append(meta)\n",
    "        size_acc += payload_size\n",
    "\n",
    "    # Flush final batch\n",
    "    if batch_texts:\n",
    "        vectorstore.add_texts(texts=batch_texts, ids=batch_ids, metadatas=batch_metas)\n",
    "\n",
    "print(\"✅ All files uploaded to Pinecone without exceeding size limit.\")"
   ]
  }
 ],
 "metadata": {
  "kernelspec": {
   "display_name": "base",
   "language": "python",
   "name": "python3"
  },
  "language_info": {
   "codemirror_mode": {
    "name": "ipython",
    "version": 3
   },
   "file_extension": ".py",
   "mimetype": "text/x-python",
   "name": "python",
   "nbconvert_exporter": "python",
   "pygments_lexer": "ipython3",
   "version": "3.12.3"
  }
 },
 "nbformat": 4,
 "nbformat_minor": 2
}
